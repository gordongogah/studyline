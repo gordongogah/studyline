{
 "cells": [
  {
   "cell_type": "code",
   "execution_count": 3,
   "metadata": {},
   "outputs": [],
   "source": [
    "import pickle\n",
    "from bs4 import BeautifulSoup\n",
    "import spacy \n",
    "import requests\n",
    "import en_core_web_sm\n",
    "import wikipedia"
   ]
  },
  {
   "cell_type": "code",
   "execution_count": 5,
   "metadata": {},
   "outputs": [],
   "source": [
    "nlp = en_core_web_sm.load()"
   ]
  },
  {
   "cell_type": "code",
   "execution_count": 8,
   "metadata": {},
   "outputs": [],
   "source": [
    "def url_to_trancripts(*pages):\n",
    "    sentences = []\n",
    "    for page in pages:\n",
    "        p = wikipedia.page(page)\n",
    "        doc = nlp(p.content)\n",
    "        sentences += [sent.text for sent in doc.sents]\n",
    "    return sentences\n",
    "python_animal = url_to_trancripts('Reticulated python','Ball Python')\n",
    "python_programming = url_to_trancripts('Python (programming language)')\n",
    "\n",
    "# comedians\n",
    "#erick_omondi = url_to_trancripts('Erick Omondi')\n",
    "jalango = url_to_trancripts('Felix Odiwour')\n",
    "churchill = url_to_trancripts('Daniel Ndambuki ')\n",
    "mamito = url_to_trancripts('Mammito Eunice ')\n",
    "teacher_wanjiku = ('Wanjiku the Teacher')\n",
    "\n",
    "# artists\n",
    "sanaipei = url_to_trancripts('Sanaipei Tande')"
   ]
  },
  {
   "cell_type": "code",
   "execution_count": null,
   "metadata": {},
   "outputs": [],
   "source": [
    "jal"
   ]
  },
  {
   "cell_type": "code",
   "execution_count": 14,
   "metadata": {},
   "outputs": [],
   "source": [
    "artists = [jalango[:5],churchill[:5],mamito[:5],teacher_wanjiku[:5],sanaipei[:5]]"
   ]
  },
  {
   "cell_type": "code",
   "execution_count": 15,
   "metadata": {},
   "outputs": [
    {
     "data": {
      "text/plain": [
       "[[\"Felix Odiwour commonly known as Jalang'o is a Kenyan entrepreneur, actor, director, comedian and radio presenter.\",\n",
       "  'He is known for his green suit and a leopard print shirt.',\n",
       "  'He is also the CEO of Arena media, an event organizing company.',\n",
       "  \"Felix is mostly known for his role as Jalang'o in Citizen TV's Papa Shirandula.\",\n",
       "  \"Jalang'o began his radio hosting at Kiss FM in early 2004, then transitioned to Radio Maisha in 2012.\"],\n",
       " ['Daniel \"Churchill\" Ndambuki is a Kenyan comedian who hosts the comedy television show  Churchill Show on NTV Kenya on Sundays and Thursdays.  ',\n",
       "  'Churchill was born in Kitui town, but moved to Machakos.',\n",
       "  'He has worked in the comedy industry since 1996 and has now become a household name in Kenya.',\n",
       "  'He launched the Churchill Live Comedy Show in September 2008 but was renamed Churchill Show during its third season in 2012.',\n",
       "  'The show has given a platform to hundreds of comedians in the country, the most successful ones being Eric Omondi, Teacher Wanjiku, Professor Hammo, MCA Tricky, Jemutai, Magazine (DJ Shitii) and Dr. Kingori.\\n\\n\\n'],\n",
       " ['Mammito Eunice (born 18 September 1993 as Eunice Wanjiru Njoki) is a stand up comedian, actress, writer and mc. \\n\\n\\n==',\n",
       "  'Early Life and Education =',\n",
       "  '=\\n',\n",
       "  'Mammito was born in Nairobi on September 18, 1993.',\n",
       "  'She has never been able to know her father, and she does not know how it feels to have a father figure.'],\n",
       " 'Wanji',\n",
       " ['Natasha Sanaipei Tande (born 22 March 1985), professionally known as Sana, is a Kenyan singer, songwriter, actress, karaoke host, radio personality and entertainer.',\n",
       "  'Born and raised in Mombasa and later on  in Ngong, she gained prominence after winning the 2004 East Africa Coca-Cola Popstars Talent Search together with two other bandmates.',\n",
       "  'Thereafter she had a short stint at Capital FM.',\n",
       "  \"In 2007 she joined Kiss 100 and thereafter Easy FM in 2013 (now known as Nation FM), where her daily mid-morning show garnered the station's highest listenership.\\n\\n\\n\",\n",
       "  '=']]"
      ]
     },
     "execution_count": 15,
     "metadata": {},
     "output_type": "execute_result"
    }
   ],
   "source": [
    "artists"
   ]
  },
  {
   "cell_type": "code",
   "execution_count": 17,
   "metadata": {},
   "outputs": [],
   "source": [
    "arts_perfomer = ['Phelix','churchill','mamito','teacher_wanjiku','sanapei']"
   ]
  },
  {
   "cell_type": "code",
   "execution_count": null,
   "metadata": {},
   "outputs": [],
   "source": []
  }
 ],
 "metadata": {
  "kernelspec": {
   "display_name": "Python 3",
   "language": "python",
   "name": "python3"
  },
  "language_info": {
   "codemirror_mode": {
    "name": "ipython",
    "version": 3
   },
   "file_extension": ".py",
   "mimetype": "text/x-python",
   "name": "python",
   "nbconvert_exporter": "python",
   "pygments_lexer": "ipython3",
   "version": "3.7.4"
  }
 },
 "nbformat": 4,
 "nbformat_minor": 2
}
